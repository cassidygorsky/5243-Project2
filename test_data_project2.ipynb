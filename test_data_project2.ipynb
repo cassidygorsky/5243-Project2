{
 "cells": [
  {
   "cell_type": "code",
   "execution_count": 1,
   "metadata": {},
   "outputs": [
    {
     "name": "stdout",
     "output_type": "stream",
     "text": [
      "Requirement already satisfied: numpy in c:\\users\\cassi\\anaconda3\\lib\\site-packages (1.26.4)\n",
      "Requirement already satisfied: pyreadr in c:\\users\\cassi\\anaconda3\\lib\\site-packages (0.5.3)\n",
      "Requirement already satisfied: pandas>=1.2.0 in c:\\users\\cassi\\anaconda3\\lib\\site-packages (from pyreadr) (2.2.2)\n",
      "Requirement already satisfied: numpy>=1.26.0 in c:\\users\\cassi\\anaconda3\\lib\\site-packages (from pandas>=1.2.0->pyreadr) (1.26.4)\n",
      "Requirement already satisfied: python-dateutil>=2.8.2 in c:\\users\\cassi\\anaconda3\\lib\\site-packages (from pandas>=1.2.0->pyreadr) (2.9.0.post0)\n",
      "Requirement already satisfied: pytz>=2020.1 in c:\\users\\cassi\\anaconda3\\lib\\site-packages (from pandas>=1.2.0->pyreadr) (2024.1)\n",
      "Requirement already satisfied: tzdata>=2022.7 in c:\\users\\cassi\\anaconda3\\lib\\site-packages (from pandas>=1.2.0->pyreadr) (2023.3)\n",
      "Requirement already satisfied: six>=1.5 in c:\\users\\cassi\\anaconda3\\lib\\site-packages (from python-dateutil>=2.8.2->pandas>=1.2.0->pyreadr) (1.16.0)\n",
      "Requirement already satisfied: pandas in c:\\users\\cassi\\anaconda3\\lib\\site-packages (2.2.2)\n",
      "Requirement already satisfied: numpy>=1.26.0 in c:\\users\\cassi\\anaconda3\\lib\\site-packages (from pandas) (1.26.4)\n",
      "Requirement already satisfied: python-dateutil>=2.8.2 in c:\\users\\cassi\\anaconda3\\lib\\site-packages (from pandas) (2.9.0.post0)\n",
      "Requirement already satisfied: pytz>=2020.1 in c:\\users\\cassi\\anaconda3\\lib\\site-packages (from pandas) (2024.1)\n",
      "Requirement already satisfied: tzdata>=2022.7 in c:\\users\\cassi\\anaconda3\\lib\\site-packages (from pandas) (2023.3)\n",
      "Requirement already satisfied: six>=1.5 in c:\\users\\cassi\\anaconda3\\lib\\site-packages (from python-dateutil>=2.8.2->pandas) (1.16.0)\n"
     ]
    }
   ],
   "source": [
    "!pip install numpy\n",
    "!pip install pyreadr\n",
    "!pip install pandas"
   ]
  },
  {
   "cell_type": "code",
   "execution_count": 2,
   "metadata": {},
   "outputs": [],
   "source": [
    "import re\n",
    "import pandas as pd\n",
    "import numpy as np\n",
    "import pyreadr"
   ]
  },
  {
   "cell_type": "code",
   "execution_count": 3,
   "metadata": {},
   "outputs": [],
   "source": [
    "def clean_column_name(col_name):\n",
    "        return re.sub(r'[^a-zA-Z0-9_]', '_', col_name)"
   ]
  },
  {
   "cell_type": "code",
   "execution_count": 11,
   "metadata": {},
   "outputs": [
    {
     "data": {
      "text/plain": [
       "pandas.core.frame.DataFrame"
      ]
     },
     "execution_count": 11,
     "metadata": {},
     "output_type": "execute_result"
    }
   ],
   "source": [
    "file = pyreadr.read_r(\"atomic_attr.rds\")#[None] \n",
    "\n",
    "type(file[None])"
   ]
  },
  {
   "cell_type": "code",
   "execution_count": null,
   "metadata": {},
   "outputs": [],
   "source": [
    "        #Read file based on format\n",
    "        try:\n",
    "            if ext == \"csv\":\n",
    "                df = pd.read_csv(file[0][\"datapath\"])\n",
    "                df.columns = [clean_column_name(col) for col in df.columns]\n",
    "            elif ext in [\"xls\", \"xlsx\"]:\n",
    "                df = pd.read_excel(file[0][\"datapath\"])\n",
    "                df.columns = [clean_column_name(col) for col in df.columns]\n",
    "            elif ext == \"json\":\n",
    "                df = pd.read_json(file[0][\"datapath\"])\n",
    "                df.columns = [clean_column_name(col) for col in df.columns]\n",
    "            elif ext == \"rds\":\n",
    "                df = pyreadr.read_r(file[0][\"datapath\"])[None]  # Extract first object\n",
    "                df.columns = [clean_column_name(col) for col in df.columns]"
   ]
  }
 ],
 "metadata": {
  "kernelspec": {
   "display_name": "base",
   "language": "python",
   "name": "python3"
  },
  "language_info": {
   "codemirror_mode": {
    "name": "ipython",
    "version": 3
   },
   "file_extension": ".py",
   "mimetype": "text/x-python",
   "name": "python",
   "nbconvert_exporter": "python",
   "pygments_lexer": "ipython3",
   "version": "3.12.7"
  }
 },
 "nbformat": 4,
 "nbformat_minor": 2
}
