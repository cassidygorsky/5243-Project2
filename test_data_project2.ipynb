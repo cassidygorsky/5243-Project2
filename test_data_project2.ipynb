{
 "cells": [
  {
   "cell_type": "code",
   "execution_count": 2,
   "metadata": {},
   "outputs": [
    {
     "name": "stdout",
     "output_type": "stream",
     "text": [
      "Requirement already satisfied: numpy in c:\\users\\cassi\\anaconda3\\envs\\shiny_env\\lib\\site-packages (2.0.2)\n",
      "Note: you may need to restart the kernel to use updated packages.\n",
      "Requirement already satisfied: pyreadr in c:\\users\\cassi\\anaconda3\\envs\\shiny_env\\lib\\site-packages (0.5.0)\n",
      "Requirement already satisfied: pandas>=1.2.0 in c:\\users\\cassi\\anaconda3\\envs\\shiny_env\\lib\\site-packages (from pyreadr) (2.2.3)\n",
      "Requirement already satisfied: numpy>=1.22.4 in c:\\users\\cassi\\anaconda3\\envs\\shiny_env\\lib\\site-packages (from pandas>=1.2.0->pyreadr) (2.0.2)\n",
      "Requirement already satisfied: python-dateutil>=2.8.2 in c:\\users\\cassi\\anaconda3\\envs\\shiny_env\\lib\\site-packages (from pandas>=1.2.0->pyreadr) (2.9.0.post0)\n",
      "Requirement already satisfied: pytz>=2020.1 in c:\\users\\cassi\\anaconda3\\envs\\shiny_env\\lib\\site-packages (from pandas>=1.2.0->pyreadr) (2024.1)\n",
      "Requirement already satisfied: tzdata>=2022.7 in c:\\users\\cassi\\anaconda3\\envs\\shiny_env\\lib\\site-packages (from pandas>=1.2.0->pyreadr) (2023.3)\n",
      "Requirement already satisfied: six>=1.5 in c:\\users\\cassi\\anaconda3\\envs\\shiny_env\\lib\\site-packages (from python-dateutil>=2.8.2->pandas>=1.2.0->pyreadr) (1.16.0)\n",
      "Note: you may need to restart the kernel to use updated packages.\n",
      "Requirement already satisfied: pandas in c:\\users\\cassi\\anaconda3\\envs\\shiny_env\\lib\\site-packages (2.2.3)\n",
      "Requirement already satisfied: numpy>=1.22.4 in c:\\users\\cassi\\anaconda3\\envs\\shiny_env\\lib\\site-packages (from pandas) (2.0.2)\n",
      "Requirement already satisfied: python-dateutil>=2.8.2 in c:\\users\\cassi\\anaconda3\\envs\\shiny_env\\lib\\site-packages (from pandas) (2.9.0.post0)\n",
      "Requirement already satisfied: pytz>=2020.1 in c:\\users\\cassi\\anaconda3\\envs\\shiny_env\\lib\\site-packages (from pandas) (2024.1)\n",
      "Requirement already satisfied: tzdata>=2022.7 in c:\\users\\cassi\\anaconda3\\envs\\shiny_env\\lib\\site-packages (from pandas) (2023.3)\n",
      "Requirement already satisfied: six>=1.5 in c:\\users\\cassi\\anaconda3\\envs\\shiny_env\\lib\\site-packages (from python-dateutil>=2.8.2->pandas) (1.16.0)\n",
      "Note: you may need to restart the kernel to use updated packages.\n"
     ]
    }
   ],
   "source": [
    "%pip install numpy\n",
    "%pip install pyreadr\n",
    "%pip install pandas"
   ]
  },
  {
   "cell_type": "code",
   "execution_count": 3,
   "metadata": {},
   "outputs": [],
   "source": [
    "import re\n",
    "import pandas as pd\n",
    "import numpy as np\n",
    "import pyreadr"
   ]
  },
  {
   "cell_type": "code",
   "execution_count": 3,
   "metadata": {},
   "outputs": [],
   "source": [
    "def clean_column_name(col_name):\n",
    "        return re.sub(r'[^a-zA-Z0-9_]', '_', col_name)"
   ]
  },
  {
   "cell_type": "code",
   "execution_count": 11,
   "metadata": {},
   "outputs": [
    {
     "data": {
      "text/plain": [
       "pandas.core.frame.DataFrame"
      ]
     },
     "execution_count": 11,
     "metadata": {},
     "output_type": "execute_result"
    }
   ],
   "source": [
    "file = pyreadr.read_r(\"atomic_attr.rds\")#[None] \n",
    "\n",
    "type(file[None])"
   ]
  },
  {
   "cell_type": "code",
   "execution_count": 5,
   "metadata": {},
   "outputs": [],
   "source": [
    "from shiny import App, render, ui, reactive\n",
    "\n",
    "app_ui = ui.page_fluid(\n",
    "    ui.input_action_button(\"refresh\", \"Refresh Table\"),\n",
    "    ui.output_table(\"table_output\")\n",
    ")\n",
    "\n",
    "def server(input, output, session):\n",
    "    # Store the dataframe in a reactive value\n",
    "    data = reactive.Value(pd.DataFrame({\"Name\": [\"Alice\", \"Bob\"], \"Age\": [25, 30]}))\n",
    "\n",
    "    @output\n",
    "    @render.table\n",
    "    def table_output():\n",
    "        return data()\n",
    "\n",
    "    # Button click updates the dataframe and triggers reactivity\n",
    "    @reactive.effect\n",
    "    @reactive.event(input.refresh)\n",
    "    def update_data():\n",
    "        df = data()\n",
    "        df.loc[df[\"Name\"] == \"Alice\", \"Age\"] += 1  # Modify Alice's age\n",
    "        data.set(df)  # Update the reactive value, triggering reactivity\n",
    "\n",
    "app = App(app_ui, server)"
   ]
  }
 ],
 "metadata": {
  "kernelspec": {
   "display_name": "shiny_env",
   "language": "python",
   "name": "python3"
  },
  "language_info": {
   "codemirror_mode": {
    "name": "ipython",
    "version": 3
   },
   "file_extension": ".py",
   "mimetype": "text/x-python",
   "name": "python",
   "nbconvert_exporter": "python",
   "pygments_lexer": "ipython3",
   "version": "3.9.21"
  }
 },
 "nbformat": 4,
 "nbformat_minor": 2
}
