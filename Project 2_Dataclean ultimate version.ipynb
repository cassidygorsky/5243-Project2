{
 "cells": [
  {
   "cell_type": "code",
   "execution_count": 64,
   "id": "386fe3f6-9688-4d13-8b9e-d83b7db43b3e",
   "metadata": {
    "jupyter": {
     "source_hidden": true
    }
   },
   "outputs": [],
   "source": [
    "from shiny import App, render, ui, reactive\n",
    "import pandas as pd\n",
    "import numpy as np\n",
    "from sklearn.preprocessing import StandardScaler, OneHotEncoder,LabelEncoder\n",
    "from sklearn.impute import SimpleImputer"
   ]
  },
  {
   "cell_type": "code",
   "execution_count": 65,
   "id": "faa752b2-a9c9-444a-b161-0c678ffdc541",
   "metadata": {},
   "outputs": [],
   "source": [
    "default_data = pd.read_csv(r'C:\\Users\\86156\\Desktop\\lung_disease_data.csv')"
   ]
  },
  {
   "cell_type": "code",
   "execution_count": 66,
   "id": "707272f9-2107-4fa0-b886-7cac80f79e6b",
   "metadata": {},
   "outputs": [],
   "source": [
    "# all the clean steps are coded as functions and then add into shiny"
   ]
  },
  {
   "cell_type": "code",
   "execution_count": 67,
   "id": "f45b704f",
   "metadata": {},
   "outputs": [],
   "source": [
    "## data format clean (standardize string,  convert string into number if avaliable)"
   ]
  },
  {
   "cell_type": "code",
   "execution_count": 68,
   "id": "9dd52cb3",
   "metadata": {},
   "outputs": [],
   "source": [
    "def clean_strings_and_convert_numbers(df):\n",
    "    df_clean = df.copy()\n",
    "    for col in df_clean.select_dtypes(include=[\"object\"]).columns:\n",
    "        # remove space and convert to lower\n",
    "        df_clean[col] = df_clean[col].str.strip().str.lower()\n",
    "        # remove to np.nan\n",
    "        df_clean[col] = df_clean[col].replace([\"na\", \"n/a\", \"none\", \"null\", \"\"], np.nan)\n",
    "        # convert to number\n",
    "        try:\n",
    "            converted = pd.to_numeric(df_clean[col], errors=\"coerce\")\n",
    "            if converted.notna().mean() > 0.5:\n",
    "                df_clean[col] = converted\n",
    "        except Exception:\n",
    "            pass\n",
    "    return df_clean"
   ]
  },
  {
   "cell_type": "code",
   "execution_count": 69,
   "id": "3e1a5481",
   "metadata": {},
   "outputs": [],
   "source": [
    "## convert to datetime"
   ]
  },
  {
   "cell_type": "code",
   "execution_count": 70,
   "id": "b8f50077",
   "metadata": {},
   "outputs": [],
   "source": [
    "def convert_to_dates(df):\n",
    "    df_clean = df.copy()\n",
    "    for col in df_clean.columns:\n",
    "        if df_clean[col].dtype == \"object\":\n",
    "            try:\n",
    "                converted = pd.to_datetime(df_clean[col], errors=\"coerce\")\n",
    "                if converted.notna().mean() > 0.5:\n",
    "                    df_clean[col] = converted\n",
    "            except Exception:\n",
    "                pass\n",
    "    return df_clean"
   ]
  },
  {
   "cell_type": "code",
   "execution_count": 71,
   "id": "acf9b7c5-9f23-4a19-a713-ad26efa4c896",
   "metadata": {},
   "outputs": [],
   "source": [
    "## remove duplicates"
   ]
  },
  {
   "cell_type": "code",
   "execution_count": 72,
   "id": "341900c8-b2ca-45c6-a37a-d1a1ccc71e5f",
   "metadata": {
    "jupyter": {
     "source_hidden": true
    }
   },
   "outputs": [],
   "source": [
    "def remove_duplicates(df):\n",
    "    return df.drop_duplicates()"
   ]
  },
  {
   "cell_type": "code",
   "execution_count": 73,
   "id": "658b74ea-43ed-47e8-a65b-aa62686740ba",
   "metadata": {
    "jupyter": {
     "source_hidden": true
    }
   },
   "outputs": [],
   "source": [
    "## missing value(able to replace missing value with mean, median, mode or just drop)\n",
    "## user can handle specific columns also automately handle all numerical columns"
   ]
  },
  {
   "cell_type": "code",
   "execution_count": 74,
   "id": "6357bbbf-7869-4c06-af20-9bd69d10701c",
   "metadata": {
    "jupyter": {
     "source_hidden": true
    }
   },
   "outputs": [],
   "source": [
    "def handle_missing_values(df, strategy=\"mean\", drop_columns=[]):\n",
    "    if len(drop_columns) > 0:\n",
    "    \n",
    "        df = df.dropna(subset=drop_columns)\n",
    "    else:\n",
    "        if strategy == \"drop\":\n",
    "            df = df.dropna() \n",
    "        else:\n",
    "            imputer = SimpleImputer(strategy=strategy)\n",
    "            num_cols = df.select_dtypes(include=[\"number\"]).columns\n",
    "            df[num_cols] = imputer.fit_transform(df[num_cols])\n",
    "    \n",
    "    return df"
   ]
  },
  {
   "cell_type": "code",
   "execution_count": 75,
   "id": "4fcea91e-821e-48c5-a528-07090f0c2018",
   "metadata": {
    "jupyter": {
     "source_hidden": true
    }
   },
   "outputs": [],
   "source": [
    "## outlier\n",
    "## function detect outliers using IQR method or z-score method, and can delete, replace as mean or quantiles"
   ]
  },
  {
   "cell_type": "code",
   "execution_count": 76,
   "id": "769247d5-8cd9-41fb-9e9e-07156c431790",
   "metadata": {
    "jupyter": {
     "source_hidden": true
    }
   },
   "outputs": [],
   "source": [
    "def handle_outliers(df, method=\"IQR\", z_thresh=3, columns=None, handling_method=\"delete\"):\n",
    "    if columns is None:\n",
    "        numeric_cols = df.select_dtypes(include=[\"number\"]).columns.tolist()\n",
    "    else:\n",
    "        numeric_cols = [col for col in columns if col in df.columns and pd.api.types.is_numeric_dtype(df[col])]\n",
    "    if not numeric_cols:\n",
    "        return df, pd.DataFrame()\n",
    "    \n",
    "    # category as methods\n",
    "    if method == \"IQR\":\n",
    "        if handling_method == \"delete\":\n",
    "            mask = pd.Series(False, index=df.index)\n",
    "            for col in numeric_cols:\n",
    "                Q1 = df[col].quantile(0.25)\n",
    "                Q3 = df[col].quantile(0.75)\n",
    "                IQR = Q3 - Q1\n",
    "                lower_bound = Q1 - 1.5 * IQR\n",
    "                upper_bound = Q3 + 1.5 * IQR\n",
    "                mask = mask | ((df[col] < lower_bound) | (df[col] > upper_bound))\n",
    "            outliers = df[mask]\n",
    "            df_clean = df[~mask]\n",
    "            modifications = outliers.copy()\n",
    "        elif handling_method in [\"mean\", \"median\", \"winsorize\"]:\n",
    "            df_clean = df.copy()\n",
    "            modifications = []\n",
    "            for col in numeric_cols:\n",
    "                Q1 = df[col].quantile(0.25)\n",
    "                Q3 = df[col].quantile(0.75)\n",
    "                IQR = Q3 - Q1\n",
    "                lower_bound = Q1 - 1.5 * IQR\n",
    "                upper_bound = Q3 + 1.5 * IQR\n",
    "                for idx, value in df_clean[col].iteritems():\n",
    "                    if value < lower_bound or value > upper_bound:\n",
    "                        original_value = value\n",
    "                        if handling_method == \"mean\":\n",
    "                            replacement = df[col].mean()\n",
    "                        elif handling_method == \"median\":\n",
    "                            replacement = df[col].median()\n",
    "                        elif handling_method == \"winsorize\":\n",
    "                            replacement = lower_bound if value < lower_bound else upper_bound\n",
    "                        modifications.append({\n",
    "                            \"index\": idx,\n",
    "                            \"column\": col,\n",
    "                            \"original\": original_value,\n",
    "                            \"replacement\": replacement\n",
    "                        })\n",
    "                        df_clean.at[idx, col] = replacement\n",
    "            modifications = pd.DataFrame(modifications)\n",
    "        else:\n",
    "            df_clean = df.copy()\n",
    "            modifications = pd.DataFrame()\n",
    "    elif method == \"Z-score\":\n",
    "        if handling_method == \"delete\":\n",
    "            mask = pd.Series(False, index=df.index)\n",
    "            for col in numeric_cols:\n",
    "                mean = df[col].mean()\n",
    "                std = df[col].std()\n",
    "                lower_bound = mean - z_thresh * std\n",
    "                upper_bound = mean + z_thresh * std\n",
    "                mask = mask | ((df[col] < lower_bound) | (df[col] > upper_bound))\n",
    "            outliers = df[mask]\n",
    "            df_clean = df[~mask]\n",
    "            modifications = outliers.copy()\n",
    "        elif handling_method in [\"mean\", \"median\", \"winsorize\"]:\n",
    "            df_clean = df.copy()\n",
    "            modifications = []\n",
    "            for col in numeric_cols:\n",
    "                mean = df[col].mean()\n",
    "                std = df[col].std()\n",
    "                lower_bound = mean - z_thresh * std\n",
    "                upper_bound = mean + z_thresh * std\n",
    "                for idx, value in df_clean[col].iteritems():\n",
    "                    if value < lower_bound or value > upper_bound:\n",
    "                        original_value = value\n",
    "                        if handling_method == \"mean\":\n",
    "                            replacement = mean\n",
    "                        elif handling_method == \"median\":\n",
    "                            replacement = df[col].median()\n",
    "                        elif handling_method == \"winsorize\":\n",
    "                            replacement = lower_bound if value < lower_bound else upper_bound\n",
    "                        modifications.append({\n",
    "                            \"index\": idx,\n",
    "                            \"column\": col,\n",
    "                            \"original\": original_value,\n",
    "                            \"replacement\": replacement\n",
    "                        })\n",
    "                        df_clean.at[idx, col] = replacement\n",
    "            modifications = pd.DataFrame(modifications)\n",
    "        else:\n",
    "            df_clean = df.copy()\n",
    "            modifications = pd.DataFrame()\n",
    "    else:\n",
    "        df_clean = df.copy()\n",
    "        modifications = pd.DataFrame()\n",
    "    return df_clean, modifications\n"
   ]
  },
  {
   "cell_type": "code",
   "execution_count": 77,
   "id": "652d302b-bdc3-471d-b5f0-3c836dc93782",
   "metadata": {
    "jupyter": {
     "source_hidden": true
    }
   },
   "outputs": [],
   "source": [
    "## standardize numerical data\n",
    "## choose specific columns to normalize"
   ]
  },
  {
   "cell_type": "code",
   "execution_count": 78,
   "id": "11c29dc2-2e51-4b13-894e-3463f4d52198",
   "metadata": {
    "jupyter": {
     "source_hidden": true
    }
   },
   "outputs": [],
   "source": [
    "def normalize_data(df, normalize_columns=[]):\n",
    "    if len(normalize_columns) > 0:\n",
    "        scaler = StandardScaler()\n",
    "        df[normalize_columns] = scaler.fit_transform(df[normalize_columns])\n",
    "    return df"
   ]
  },
  {
   "cell_type": "code",
   "execution_count": 79,
   "id": "2ebbaf3b-c9b9-48e7-9657-74ad6aa96e88",
   "metadata": {
    "jupyter": {
     "source_hidden": true
    }
   },
   "outputs": [],
   "source": [
    "## encoding categorical variables\n",
    "## for variables' unique value lessthan a user set threshold using one-hot encoing, or use lable encoding. default threshold:10"
   ]
  },
  {
   "cell_type": "code",
   "execution_count": 80,
   "id": "5e81c815-3dd1-405b-a25e-566f03aa7c0a",
   "metadata": {
    "jupyter": {
     "source_hidden": true
    }
   },
   "outputs": [],
   "source": [
    "def encode_categorical_data(df, one_hot_threshold=10):\n",
    "    df = df.copy() \n",
    "    categorical_cols = df.select_dtypes(include=[\"object\", \"category\"]).columns\n",
    "    for col in categorical_cols:\n",
    "        unique_values = df[col].nunique()\n",
    "        # skip if only one unique value\n",
    "        if unique_values <= 1:\n",
    "            continue\n",
    "        \n",
    "        if unique_values <= one_hot_threshold:\n",
    "            encoder = OneHotEncoder(sparse_output=False, drop=\"first\")\n",
    "            encoded_cols = encoder.fit_transform(df[[col]])\n",
    "            if encoded_cols.shape[1] == 0:\n",
    "                continue\n",
    "            encoded_df = pd.DataFrame(encoded_cols, columns=encoder.get_feature_names_out([col]), index=df.index)\n",
    "            df = df.drop(columns=[col])\n",
    "            df = pd.concat([df, encoded_df], axis=1)\n",
    "        else:\n",
    "            from sklearn.preprocessing import LabelEncoder\n",
    "            encoder = LabelEncoder()\n",
    "            df[col] = encoder.fit_transform(df[col])\n",
    "    return df"
   ]
  },
  {
   "cell_type": "code",
   "execution_count": 81,
   "id": "64147dfd-af1a-4246-9003-e9fd6bbc7dcc",
   "metadata": {},
   "outputs": [],
   "source": [
    "# shiny ui"
   ]
  },
  {
   "cell_type": "code",
   "execution_count": 82,
   "id": "fd780f14-c96e-4611-aff9-280d7f82e18f",
   "metadata": {
    "jupyter": {
     "source_hidden": true
    }
   },
   "outputs": [],
   "source": [
    "app_ui = ui.page_sidebar(\n",
    "    ui.sidebar(\n",
    "        ui.input_radio_buttons(\n",
    "            \"data_source\", \n",
    "            \"Choose Data Source: \", \n",
    "            choices=[\"Upload dataset\", \"Use Default Data\"], \n",
    "            selected=\"Use Default Data\"\n",
    "        ),\n",
    "        ui.input_file(\"file\", \"Upload a dataset\", multiple=False, accept=[\".csv\",\".rds\",\".xlsx\",\".json\"]),\n",
    "        title=\"Load Data\",\n",
    "    ),\n",
    "    ui.page_fillable(\n",
    "        ui.navset_card_tab(\n",
    "            ui.nav_panel(\"Data Output\", \n",
    "                ui.output_table(\"table\")\n",
    "            ),\n",
    "            ui.nav_panel(\"Cleaning & Preprocessing\",\n",
    "                # upper part: different operation columns\n",
    "                 ui.row(\n",
    "                    # basic clean (string clean, number convert, duplication remove)\n",
    "                    ui.column(2,\n",
    "                        ui.h4(\"Data Cleaning\"),\n",
    "                        ui.input_checkbox(\"apply_string_cleaning\", \"Clean Strings & Convert Numbers\", value=False),\n",
    "                        ui.input_checkbox(\"apply_date_conversion\", \"Convert to Dates\", value=False),\n",
    "                        ui.input_checkbox(\"remove_duplicates\", \"Remove Duplicate Rows\", value=False)\n",
    "                    ),\n",
    "                    # missing value\n",
    "                    ui.column(2,\n",
    "                        ui.h4(\"Missing Value Handling\"),\n",
    "                        ui.input_selectize(\"missing_value_strategy\", \"Missing Value Strategy:\", \n",
    "                                             choices=[\"mean\", \"median\", \"mode\", \"drop\"], selected=\"mean\"),\n",
    "                        ui.input_checkbox(\"select_all_na\", \"Select All Columns for NA Removal\", value=False),\n",
    "                        ui.input_checkbox(\"deselect_all_na\", \"Deselect All Columns for NA Removal\", value=False),\n",
    "                        ui.input_selectize(\"drop_na_columns\", \"Columns to Drop NA:\", choices=[], multiple=True)\n",
    "                    ),\n",
    "                    # ouliers\n",
    "                    ui.column(2,\n",
    "                        ui.h4(\"Outlier Handling\"),\n",
    "                        ui.input_checkbox(\"remove_outliers\", \"Handle Outliers\", value=False),\n",
    "                        ui.input_radio_buttons(\"outlier_method\", \"Detection Method:\", choices=[\"IQR\", \"Z-score\"], selected=\"IQR\"),\n",
    "                        ui.input_slider(\"zscore_threshold\", \"Z-score Threshold\", min=2, max=5, value=3, step=0.1),\n",
    "                        ui.input_selectize(\"outlier_columns\", \"Columns for Outlier Handling:\", choices=[], multiple=True),\n",
    "                        ui.input_checkbox(\"select_all_outliers\", \"Select All Numeric Columns\", value=False),\n",
    "                        ui.input_checkbox(\"deselect_all_outliers\", \"Deselect All Numeric Columns\", value=False),\n",
    "                        ui.input_selectize(\"outlier_handling\", \"Handling Option:\", \n",
    "                                           choices=[\"delete\", \"mean\", \"median\", \"winsorize\"], selected=\"delete\")\n",
    "                    ),\n",
    "                    # normalize\n",
    "                    ui.column(2,\n",
    "                        ui.h4(\"Normalization\"),\n",
    "                        ui.input_checkbox(\"enable_normalization\", \"Enable Normalization\", value=False),\n",
    "                        ui.input_checkbox(\"select_all_normalize\", \"Select All Numeric Columns\", value=False),\n",
    "                        ui.input_checkbox(\"deselect_all_normalize\", \"Deselect All Numeric Columns\", value=False),\n",
    "                        ui.input_selectize(\"normalize_columns\", \"Columns to Normalize:\", choices=[], multiple=True)\n",
    "                    ),\n",
    "                    # encode\n",
    "                    ui.column(2,\n",
    "                        ui.h4(\"Encoding\"),\n",
    "                        ui.input_checkbox(\"perform_encoding\", \"Perform Encoding\", value=False),\n",
    "                        ui.input_slider(\"one_hot_threshold\", \"One-Hot Encoding Threshold\", min=2, max=50, value=10)\n",
    "                    )\n",
    "                ),\n",
    "                # lower part: left for data preview, right for modifications review\n",
    "                ui.row(\n",
    "                    ui.column(6,\n",
    "                        ui.h4(\"Data Set Preview\"),\n",
    "                        ui.output_table(\"preview_table\")\n",
    "                    ),\n",
    "                    ui.column(6,\n",
    "                        ui.h4(\"Modifications (Deleted/Changed Rows)\"),\n",
    "                        ui.output_table(\"modifications_table\")\n",
    "                    )\n",
    "                )\n",
    "            ),\n",
    "            ui.nav_panel(\"Feature Engineering\", \n",
    "                ui.output_table(\"encoded_table\")\n",
    "            ),\n",
    "            ui.nav_panel(\"EDA\", \"Panel D content\"),\n",
    "            id=\"tab\"\n",
    "        )\n",
    "    ),\n",
    "    title=\"Team 10- 5243 Project 2\",\n",
    ")\n"
   ]
  },
  {
   "cell_type": "code",
   "execution_count": 83,
   "id": "0ed29039-c1b1-4645-a6e2-79f0643e643a",
   "metadata": {},
   "outputs": [],
   "source": [
    "# server "
   ]
  },
  {
   "cell_type": "code",
   "execution_count": 84,
   "id": "4e5dc7b8-d03d-4429-b548-f2747109c3c9",
   "metadata": {},
   "outputs": [],
   "source": [
    "def server(input, output, session):\n",
    "    removed_rows = reactive.Value(pd.DataFrame())\n",
    "    outlier_modifications = reactive.Value(pd.DataFrame())\n",
    "\n",
    "    @reactive.calc\n",
    "    def get_data():\n",
    "        if input.data_source() == \"Use Default Data\":\n",
    "            return default_data.copy()\n",
    "        file = input.file()\n",
    "        if not file:\n",
    "            return None  \n",
    "        return pd.read_csv(file[0][\"datapath\"])\n",
    "\n",
    "    @reactive.effect\n",
    "    def update_column_choices():\n",
    "        df = get_data()\n",
    "        if df is not None:\n",
    "            numeric_columns = df.select_dtypes(include=[\"number\"]).columns.tolist()\n",
    "            ui.update_selectize(\"drop_na_columns\", choices=df.columns.tolist(), session=session)\n",
    "            ui.update_selectize(\"normalize_columns\", choices=numeric_columns, session=session)\n",
    "            ui.update_selectize(\"outlier_columns\", choices=numeric_columns, session=session)\n",
    "\n",
    "            if input.select_all_na():\n",
    "                ui.update_selectize(\"drop_na_columns\", selected=df.columns.tolist(), session=session)\n",
    "            elif input.deselect_all_na():\n",
    "                ui.update_selectize(\"drop_na_columns\", selected=[], session=session)\n",
    "\n",
    "            if input.select_all_normalize():\n",
    "                ui.update_selectize(\"normalize_columns\", selected=numeric_columns, session=session)\n",
    "            elif input.deselect_all_normalize():\n",
    "                ui.update_selectize(\"normalize_columns\", selected=[], session=session)\n",
    "\n",
    "            if input.select_all_outliers():\n",
    "                ui.update_selectize(\"outlier_columns\", selected=numeric_columns, session=session)\n",
    "            elif input.deselect_all_outliers():\n",
    "                ui.update_selectize(\"outlier_columns\", selected=[], session=session)\n",
    "\n",
    "    @reactive.calc\n",
    "    def cleaned_data():\n",
    "        df = get_data()\n",
    "        if df is None:\n",
    "            print(\"⚠ No data to clean\")\n",
    "            return None\n",
    "        ### standardize data format\n",
    "        if input.apply_string_cleaning():\n",
    "            df = clean_strings_and_convert_numbers(df)\n",
    "        ### date convert\n",
    "        if input.apply_date_conversion():\n",
    "            df = convert_to_dates(df)\n",
    "        ### missing value\n",
    "        df = handle_missing_values(df, strategy=input.missing_value_strategy(), drop_columns=input.drop_na_columns())\n",
    "\n",
    "        ### dupulications\n",
    "        if input.remove_duplicates():\n",
    "            mask = df.duplicated(keep='first')\n",
    "            removed = df[mask]\n",
    "            removed_rows.set(removed)\n",
    "            df = remove_duplicates(df)\n",
    "        else:\n",
    "            removed_rows.set(pd.DataFrame())\n",
    "\n",
    "        ### outliers\n",
    "        if input.remove_outliers():\n",
    "            method = input.outlier_method()\n",
    "            z_thresh = input.zscore_threshold()\n",
    "            outlier_cols = list(input.outlier_columns()) if input.outlier_columns() else df.select_dtypes(include=[\"number\"]).columns.tolist()\n",
    "            handling_option = input.outlier_handling()\n",
    "            df, modifications = handle_outliers(df, method=method, z_thresh=z_thresh, columns=outlier_cols, handling_method=handling_option)\n",
    "            outlier_modifications.set(modifications)\n",
    "        else:\n",
    "            outlier_modifications.set(pd.DataFrame())\n",
    "\n",
    "        ### normalize\n",
    "        if input.enable_normalization():\n",
    "            normalize_columns = list(input.normalize_columns())\n",
    "            df = normalize_data(df, normalize_columns=normalize_columns)\n",
    "\n",
    "        return df\n",
    "\n",
    "    ### encoding\n",
    "    @reactive.calc\n",
    "    def encoded_data():\n",
    "        df = cleaned_data()\n",
    "        if df is None:\n",
    "            return None\n",
    "        if input.perform_encoding():\n",
    "            return encode_categorical_data(df, one_hot_threshold=input.one_hot_threshold())\n",
    "        else:\n",
    "            return df\n",
    "\n",
    "    ### combine outliers and dupilications\n",
    "    @reactive.calc\n",
    "    def modifications_data():\n",
    "        dup = removed_rows()\n",
    "        out_mod = outlier_modifications()\n",
    "        if dup is None:\n",
    "            dup = pd.DataFrame()\n",
    "        if out_mod is None:\n",
    "            out_mod = pd.DataFrame()\n",
    "        if dup.empty and out_mod.empty:\n",
    "            return pd.DataFrame()\n",
    "        try:\n",
    "            return pd.concat([dup, out_mod], ignore_index=True)\n",
    "        except Exception:\n",
    "            return out_mod\n",
    "\n",
    "    # data preview\n",
    "    @output\n",
    "    @render.table\n",
    "    def table():\n",
    "        return get_data()\n",
    "\n",
    "    @output\n",
    "    @render.table\n",
    "    def preview_table():\n",
    "        df = encoded_data() if input.perform_encoding() else cleaned_data()\n",
    "        if df is None or df.empty:\n",
    "            return pd.DataFrame({\"Message\": [\"No data available\"]})\n",
    "        n = len(df)\n",
    "        if n > 20:\n",
    "            preview = pd.concat([df.head(10), df.tail(10)])\n",
    "        else:\n",
    "            preview = df\n",
    "        return preview\n",
    "\n",
    "    ### modifications\n",
    "    @output\n",
    "    @render.table\n",
    "    def modifications_table():\n",
    "        return modifications_data()\n",
    "\n",
    "    @output\n",
    "    @render.table\n",
    "    def encoded_table():\n",
    "        return encoded_data()\n",
    "\n",
    "app = App(app_ui, server)"
   ]
  },
  {
   "cell_type": "code",
   "execution_count": 85,
   "id": "9a4f5e22-069f-4049-b10d-bc211578f766",
   "metadata": {},
   "outputs": [],
   "source": [
    "# run app"
   ]
  },
  {
   "cell_type": "code",
   "execution_count": 86,
   "id": "f2dd7ed7-20ec-4b0d-bc80-82985a464083",
   "metadata": {
    "scrolled": true
   },
   "outputs": [
    {
     "name": "stderr",
     "output_type": "stream",
     "text": [
      "INFO:     Started server process [21448]\n",
      "INFO:     Waiting for application startup.\n",
      "INFO:     Application startup complete.\n",
      "INFO:     Uvicorn running on http://127.0.0.1:8000 (Press CTRL+C to quit)\n",
      "INFO:     Shutting down\n",
      "INFO:     Waiting for application shutdown.\n",
      "INFO:     Application shutdown complete.\n",
      "INFO:     Finished server process [21448]\n"
     ]
    }
   ],
   "source": [
    "import nest_asyncio\n",
    "nest_asyncio.apply()\n",
    "\n",
    "from shiny import App\n",
    "app.run()"
   ]
  }
 ],
 "metadata": {
  "kernelspec": {
   "display_name": "env_ds_3.12",
   "language": "python",
   "name": "python3"
  },
  "language_info": {
   "codemirror_mode": {
    "name": "ipython",
    "version": 3
   },
   "file_extension": ".py",
   "mimetype": "text/x-python",
   "name": "python",
   "nbconvert_exporter": "python",
   "pygments_lexer": "ipython3",
   "version": "3.12.7"
  }
 },
 "nbformat": 4,
 "nbformat_minor": 5
}
